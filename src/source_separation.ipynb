{
 "cells": [
  {
   "cell_type": "code",
   "execution_count": null,
   "metadata": {},
   "outputs": [
    {
     "name": "stdout",
     "output_type": "stream",
     "text": [
      "Loading audio...\n",
      "Loading audio from /workspace/src/test_audio/Djavan - Azul (Ao Vivo).wav...\n",
      "Resampling from 48000Hz to 44100Hz...\n",
      "Audio shape: torch.Size([2, 10726061]), Duration: 243.22s\n",
      "Normalizing audio...\n",
      "Loading pre-trained model on cuda...\n",
      "Separating sources with segment size of 30s...\n",
      "Processing audio in 10 segments...\n",
      "Processing segment 1/10 (0.0s - 30.0s)\n",
      "Processing segment 2/10 (24.0s - 54.0s)\n",
      "Processing segment 3/10 (48.0s - 78.0s)\n",
      "Processing segment 4/10 (72.0s - 102.0s)\n",
      "Processing segment 5/10 (96.0s - 126.0s)\n",
      "Processing segment 6/10 (120.0s - 150.0s)\n",
      "Processing segment 7/10 (144.0s - 174.0s)\n",
      "Processing segment 8/10 (168.0s - 198.0s)\n",
      "Processing segment 9/10 (192.0s - 222.0s)\n",
      "Processing segment 10/10 (216.0s - 243.2s)\n",
      "Processing segment 11/10 (240.0s - 243.2s)\n",
      "Saving separated tracks...\n",
      "Saved drums to /workspace/src/test_audio/segmented/drums.wav\n",
      "Saved bass to /workspace/src/test_audio/segmented/bass.wav\n",
      "Saved harmony to /workspace/src/test_audio/segmented/harmony.wav\n",
      "Saved vocals to /workspace/src/test_audio/segmented/vocals.wav\n",
      "Source separation complete!\n"
     ]
    }
   ],
   "source": [
    "from source_separation import *\n",
    "run_source_separation()"
   ]
  }
 ],
 "metadata": {
  "kernelspec": {
   "display_name": "Python 3",
   "language": "python",
   "name": "python3"
  },
  "language_info": {
   "codemirror_mode": {
    "name": "ipython",
    "version": 3
   },
   "file_extension": ".py",
   "mimetype": "text/x-python",
   "name": "python",
   "nbconvert_exporter": "python",
   "pygments_lexer": "ipython3",
   "version": "3.10.12"
  }
 },
 "nbformat": 4,
 "nbformat_minor": 2
}
